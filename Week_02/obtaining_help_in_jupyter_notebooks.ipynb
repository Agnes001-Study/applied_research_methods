{
 "cells": [
  {
   "cell_type": "markdown",
   "id": "b73d2fed",
   "metadata": {},
   "source": [
    "# How to Obtain Help About Python in Jupyter Notebook\n",
    "\n",
    "This notebook provides several methods to obtain help and documentation directly in a Jupyter Notebook."
   ]
  },
  {
   "cell_type": "markdown",
   "id": "ef97291e",
   "metadata": {},
   "source": [
    "## 1. Using `?` and `??`\n",
    "- **Single `?`**: Place a `?` after a function, class, or object to see its docstring.\n",
    "\n",
    "Example:\n",
    "```python\n",
    "len?\n",
    "```\n",
    "\n",
    "- **Double `??`**: Place `??` after an object to see its source code, if available.\n",
    "\n",
    "Example:\n",
    "```python\n",
    "len??\n",
    "```\n"
   ]
  },
  {
   "cell_type": "code",
   "execution_count": null,
   "id": "30908031",
   "metadata": {},
   "outputs": [],
   "source": [
    "# Example of using `?` to get help on `len`\n",
    "len?"
   ]
  },
  {
   "cell_type": "code",
   "execution_count": null,
   "id": "43fa4866",
   "metadata": {},
   "outputs": [],
   "source": [
    "# Example of using `??` to get source code if available for `len`\n",
    "len??"
   ]
  },
  {
   "cell_type": "markdown",
   "id": "5be451fb",
   "metadata": {},
   "source": [
    "## 2. Using the `help()` Function\n",
    "The built-in `help()` function displays help for a module, function, or object.\n",
    "\n",
    "Example:\n",
    "```python\n",
    "help(len)\n",
    "```"
   ]
  },
  {
   "cell_type": "code",
   "execution_count": null,
   "id": "a4d232d1",
   "metadata": {},
   "outputs": [],
   "source": [
    "# Example of using help() function\n",
    "help(len)"
   ]
  },
  {
   "cell_type": "markdown",
   "id": "3ca79718",
   "metadata": {},
   "source": [
    "## 3. Shift + Tab for Quick Help\n",
    "Press **Shift + Tab** while your cursor is inside parentheses of a function to get a pop-up of the function signature and a brief docstring.\n",
    "\n",
    "- **Multiple Times**: Press **Shift + Tab** multiple times to expand the help pop-up.\n",
    "\n",
    "*Note: This requires you to interact directly with the notebook.*"
   ]
  },
  {
   "cell_type": "markdown",
   "id": "e518a4e4",
   "metadata": {},
   "source": [
    "## 4. Accessing Documentation for Magic Commands\n",
    "Use `%` and `%%` magics to display documentation for specific commands.\n",
    "\n",
    "Example:\n",
    "```python\n",
    "%timeit?\n",
    "```\n",
    "\n",
    "You can also use `%%?` at the start of a cell to display magic documentation."
   ]
  },
  {
   "cell_type": "code",
   "execution_count": null,
   "id": "d089c56d",
   "metadata": {},
   "outputs": [],
   "source": [
    "# Example of using `%timeit?` magic command\n",
    "%timeit?"
   ]
  },
  {
   "cell_type": "markdown",
   "id": "121e493f",
   "metadata": {},
   "source": [
    "## 5. Using `dir()` to List Attributes and Methods\n",
    "The `dir()` function lists all the attributes and methods of an object. This is useful to explore modules and objects.\n",
    "\n",
    "Example:\n",
    "```python\n",
    "dir(str)\n",
    "```"
   ]
  },
  {
   "cell_type": "code",
   "execution_count": null,
   "id": "4f8b3b8d",
   "metadata": {},
   "outputs": [],
   "source": [
    "# Example of using dir() on str object\n",
    "dir(str)"
   ]
  },
  {
   "cell_type": "markdown",
   "id": "6ced3452",
   "metadata": {},
   "source": [
    "## 6. Using Third-Party Library Documentation\n",
    "Libraries like **NumPy** and **Pandas** often provide additional help features.\n",
    "\n",
    "For example, `numpy.info()` can give help on NumPy functions:\n",
    "\n",
    "Example:\n",
    "```python\n",
    "import numpy as np\n",
    "np.info(np.array)\n",
    "```"
   ]
  },
  {
   "cell_type": "code",
   "execution_count": null,
   "id": "47e94018",
   "metadata": {},
   "outputs": [],
   "source": [
    "# Example of using numpy's info function\n",
    "import numpy as np\n",
    "np.info(np.array)"
   ]
  }
 ],
 "metadata": {},
 "nbformat": 4,
 "nbformat_minor": 5
}
